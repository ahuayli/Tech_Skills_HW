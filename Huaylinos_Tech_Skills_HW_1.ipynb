{
 "cells": [
  {
   "cell_type": "markdown",
   "metadata": {},
   "source": [
    "HW # 1: Due 6/8/2020  \n",
    "by Alexander Huaylinos"
   ]
  },
  {
   "cell_type": "markdown",
   "metadata": {},
   "source": [
    "**1.**\n",
    "The radius of a circle is 5.5. Write a script to compute the area of a circle."
   ]
  },
  {
   "cell_type": "code",
   "execution_count": 4,
   "metadata": {},
   "outputs": [
    {
     "name": "stdout",
     "output_type": "stream",
     "text": [
      "The area of this circle is 95.033279\n"
     ]
    }
   ],
   "source": [
    "r = 5.5\n",
    "pi = 3.141596\n",
    "A = pi*(r**2)\n",
    "print(\"The area of this circle is\",A)"
   ]
  },
  {
   "cell_type": "markdown",
   "metadata": {},
   "source": [
    "**2.**\n",
    "Write a program where Python prints your name, then print them in reverse order with a comma between them.  Put this in the same cell.    \n",
    "\n",
    "For example:\n",
    "\n",
    "Sophia Barrett    \n",
    "Barrett, Sophia"
   ]
  },
  {
   "cell_type": "code",
   "execution_count": 11,
   "metadata": {},
   "outputs": [
    {
     "name": "stdout",
     "output_type": "stream",
     "text": [
      "Alex Huaylinos\n",
      "Huaylinos, Alex\n"
     ]
    }
   ],
   "source": [
    "print(\"Alex Huaylinos\")\n",
    "print(\"Huaylinos,\",\"Alex\")"
   ]
  },
  {
   "cell_type": "markdown",
   "metadata": {},
   "source": [
    "**3.**  Write a program to test if a number is divisible by 5."
   ]
  },
  {
   "cell_type": "code",
   "execution_count": 25,
   "metadata": {},
   "outputs": [
    {
     "name": "stdout",
     "output_type": "stream",
     "text": [
      "Select a number to divide by 5:\n",
      "25\n",
      "The selected number is divisible by 5. Good job!\n"
     ]
    }
   ],
   "source": [
    "a = float(input(\"Select a number to divide by 5:\\n\"))\n",
    "b = a%5\n",
    "if b==0:\n",
    "    print(\"The selected number is divisible by 5. Good job!\")\n",
    "else:\n",
    "    print(\"The selected number is NOT divisible by 5. Try Again.\")"
   ]
  },
  {
   "cell_type": "markdown",
   "metadata": {},
   "source": [
    "**4.**  What is the output of the following program?  \n",
    "\n",
    "a = 1  \n",
    "b = a * 2  \n",
    "c = 2 * b + 1  \n",
    "print(a)  \n",
    "print(b)  \n",
    "print(c)  \n",
    "\n",
    "***Answer***  \n",
    "Output for a: 1  \n",
    "Output for b: 2  \n",
    "Output for c: 5  "
   ]
  },
  {
   "cell_type": "code",
   "execution_count": 26,
   "metadata": {},
   "outputs": [
    {
     "name": "stdout",
     "output_type": "stream",
     "text": [
      "1\n",
      "2\n",
      "5\n"
     ]
    }
   ],
   "source": [
    "#Testing Answers\n",
    "a = 1  \n",
    "b = a * 2  \n",
    "c = 2 * b + 1  \n",
    "print(a)  \n",
    "print(b)  \n",
    "print(c) "
   ]
  },
  {
   "cell_type": "markdown",
   "metadata": {},
   "source": [
    "**5.**  What is the output of the following program?  \n",
    "\n",
    "a = 2  \n",
    "b = a * 2  \n",
    "c = b ** a  \n",
    "a = c % 2  \n",
    "print(a)  \n",
    "print(b)  \n",
    "print(c)\n",
    "\n",
    "**Answer**  \n",
    "Output for a: 0     \n",
    "Output for b: 4  \n",
    "Output for c: 16  "
   ]
  },
  {
   "cell_type": "code",
   "execution_count": 28,
   "metadata": {},
   "outputs": [
    {
     "name": "stdout",
     "output_type": "stream",
     "text": [
      "0\n",
      "4\n",
      "16\n"
     ]
    }
   ],
   "source": [
    "# Testing predicted output\n",
    "a = 2  \n",
    "b = a * 2  \n",
    "c = b ** a  \n",
    "a = c % 2  \n",
    "print(a)  \n",
    "print(b)  \n",
    "print(c)"
   ]
  },
  {
   "cell_type": "markdown",
   "metadata": {},
   "source": [
    "**6.**    What is the output of the following program?  \n",
    "\n",
    "a = 5  \n",
    "b = a // 2  \n",
    "c = a / 2  \n",
    "a = a % 2  \n",
    "print(a)  \n",
    "print(b)  \n",
    "print(c)  \n",
    "\n",
    "**Answer**  \n",
    "Output for a: 1       \n",
    "Output for b: 2   \n",
    "Output for c: 2.5   "
   ]
  },
  {
   "cell_type": "code",
   "execution_count": 30,
   "metadata": {},
   "outputs": [
    {
     "name": "stdout",
     "output_type": "stream",
     "text": [
      "1\n",
      "2\n",
      "2.5\n"
     ]
    }
   ],
   "source": [
    "# Testing output\n",
    "a = 5  \n",
    "b = a // 2  \n",
    "c = a / 2  \n",
    "a = a % 2  \n",
    "print(a)  \n",
    "print(b)  \n",
    "print(c) "
   ]
  },
  {
   "cell_type": "markdown",
   "metadata": {},
   "source": [
    "**7.**  Type each of the following commands.  Note each response.    \n",
    "print(\"Hello, world!\")    \n",
    "print(\"Hello\", \"world!\")  \n",
    "print(3)  \n",
    "print(3.0)  \n",
    "print(2 + 3)  \n",
    "print(2.0 + 3.0)  \n",
    "print(2 * 3)  \n",
    "print(2 ** 3)\n",
    "print(7 / 3)  \n",
    "print(7 // 3)  "
   ]
  },
  {
   "cell_type": "code",
   "execution_count": 32,
   "metadata": {},
   "outputs": [
    {
     "name": "stdout",
     "output_type": "stream",
     "text": [
      "Hello, world!\n",
      "Hello world!\n",
      "3\n",
      "3.0\n",
      "5\n",
      "5.0\n",
      "6\n",
      "8\n",
      "2.3333333333333335\n",
      "2\n"
     ]
    }
   ],
   "source": [
    "print(\"Hello, world!\") #prints a comma in between words    \n",
    "print(\"Hello\", \"world!\")  #comma separates individual quotes, the space creates the space between the words\n",
    "print(3) #prints and integer\n",
    "print(3.0)  #prints a float\n",
    "print(2 + 3) #performs an operation and generates answer as an integer\n",
    "print(2.0 + 3.0) #generates the answer as a float\n",
    "print(2 * 3)  #multiplies 2 by 3 to get an integer answer\n",
    "print(2 ** 3) #raises 2 to the 3rd power (2*2*2)\n",
    "print(7 / 3)  #divides 7 by 3, answer is a float\n",
    "print(7 // 3) #floor division, shows how many times 3 goes into 7"
   ]
  },
  {
   "cell_type": "markdown",
   "metadata": {},
   "source": [
    "**8.** Create a program with a name and age.  Then have it print out a message addressed to name that tells them the year that they will turn 100 years old."
   ]
  },
  {
   "cell_type": "code",
   "execution_count": 49,
   "metadata": {},
   "outputs": [
    {
     "name": "stdout",
     "output_type": "stream",
     "text": [
      "John Parker you are 20 years old. You will turn 100 in the year 2100 .\n"
     ]
    }
   ],
   "source": [
    "# simple answer\n",
    "name = \"John Parker\"\n",
    "age = 20\n",
    "year = 2020\n",
    "year100 = year + (100 - age)\n",
    "print(name, \"you are\",age,\"years old.\", \"You will turn 100 in the year\", year100,\".\")"
   ]
  },
  {
   "cell_type": "code",
   "execution_count": 42,
   "metadata": {},
   "outputs": [
    {
     "name": "stdout",
     "output_type": "stream",
     "text": [
      "What is your name?\n",
      "Paul Blart\n",
      "How old are you?\n",
      "43\n",
      "What year is it now?\n",
      "2020\n",
      "Paul Blart you are 43 years old. You will turn 100 in the year 2077 .\n"
     ]
    }
   ],
   "source": [
    "# unique answer with user input\n",
    "a = input(\"What is your name?\\n\")\n",
    "b = int(input(\"How old are you?\\n\"))\n",
    "c = int(input(\"What year is it now?\\n\"))\n",
    "d = c + (100 - b)\n",
    "print(a,\"you are\",b,\"years old.\", \"You will turn 100 in the year\", d,\".\")"
   ]
  },
  {
   "cell_type": "markdown",
   "metadata": {},
   "source": [
    "**9.**  Create a sequence of numbers from 3 to 19, but increment by 2.  "
   ]
  },
  {
   "cell_type": "code",
   "execution_count": 35,
   "metadata": {},
   "outputs": [
    {
     "data": {
      "text/plain": [
       "[3, 5, 7, 9, 11, 13, 15, 17, 19]"
      ]
     },
     "execution_count": 35,
     "metadata": {},
     "output_type": "execute_result"
    }
   ],
   "source": [
    "list(range(3, 20, 2))"
   ]
  },
  {
   "cell_type": "markdown",
   "metadata": {},
   "source": [
    "**10.**  Try to solve this problem on your own first, then check your results with python.    \n",
    "  \n",
    "a = 21\n",
    "b = 10\n",
    "c = 0\n",
    "\n",
    "c = a + b\n",
    "print(\"Line 1 - Value of c is\", c)\n",
    "\n",
    "c += a\n",
    "print(\"Line 2 - Value of c is\", c)\n",
    "\n",
    "c *= a\n",
    "print(\"Line 3 - Value of c is\", c)\n",
    "\n",
    "c /= a \n",
    "print(\"Line 4 - Value of c is\", c)\n",
    "\n",
    "c = 2\n",
    "c %= a\n",
    "print(\"Line 5 - Value of c is\", c)\n",
    "\n",
    "c **= a\n",
    "print(\"Line 6 - Value of c is\", c)\n",
    "\n",
    "c //= a\n",
    "print(\"Line 7 - Value of c is\", c)"
   ]
  },
  {
   "cell_type": "code",
   "execution_count": 59,
   "metadata": {},
   "outputs": [
    {
     "name": "stdout",
     "output_type": "stream",
     "text": [
      "Line 1 - Value of c is 31\n",
      "Line 2 - Value of c is 52\n",
      "Line 3 - Value of c is 1092\n",
      "Line 4 - Value of c is 52.0\n",
      "Line 5 - Value of c is 2\n",
      "Line 6 - Value of c is 2097152\n",
      "Line 7 - Value of c is 99864\n"
     ]
    }
   ],
   "source": [
    "a = 21\n",
    "b = 10\n",
    "c = 0\n",
    "\n",
    "c = a + b\n",
    "print(\"Line 1 - Value of c is\", c) #Answer: 31\n",
    "\n",
    "c += a\n",
    "print(\"Line 2 - Value of c is\", c) #Answer: 52\n",
    "\n",
    "c *= a\n",
    "print(\"Line 3 - Value of c is\", c) #Answer: 1092\n",
    "\n",
    "c /= a \n",
    "print(\"Line 4 - Value of c is\", c) #Answer: 52\n",
    "\n",
    "c = 2\n",
    "c %= a\n",
    "print(\"Line 5 - Value of c is\", c) #Answer: 2\n",
    "\n",
    "c **= a\n",
    "print(\"Line 6 - Value of c is\", c) #Answer: 2097152\n",
    "\n",
    "c //= a\n",
    "print(\"Line 7 - Value of c is\", c) #Answer: 99864"
   ]
  },
  {
   "cell_type": "code",
   "execution_count": null,
   "metadata": {},
   "outputs": [],
   "source": []
  }
 ],
 "metadata": {
  "kernelspec": {
   "display_name": "Python 3",
   "language": "python",
   "name": "python3"
  },
  "language_info": {
   "codemirror_mode": {
    "name": "ipython",
    "version": 3
   },
   "file_extension": ".py",
   "mimetype": "text/x-python",
   "name": "python",
   "nbconvert_exporter": "python",
   "pygments_lexer": "ipython3",
   "version": "3.7.6"
  }
 },
 "nbformat": 4,
 "nbformat_minor": 2
}
